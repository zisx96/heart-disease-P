{
  "nbformat": 4,
  "nbformat_minor": 0,
  "metadata": {
    "colab": {
      "provenance": [],
      "mount_file_id": "1sxzRx3jT17Fyt-E5LB8qNRsx9PDeV71c",
      "authorship_tag": "ABX9TyNWn2YWhRI2RWc7HPzE5rEj",
      "include_colab_link": true
    },
    "kernelspec": {
      "name": "python3",
      "display_name": "Python 3"
    },
    "language_info": {
      "name": "python"
    }
  },
  "cells": [
    {
      "cell_type": "markdown",
      "metadata": {
        "id": "view-in-github",
        "colab_type": "text"
      },
      "source": [
        "<a href=\"https://colab.research.google.com/github/zisx96/heart-disease-P/blob/main/heart.ipynb\" target=\"_parent\"><img src=\"https://colab.research.google.com/assets/colab-badge.svg\" alt=\"Open In Colab\"/></a>"
      ]
    },
    {
      "cell_type": "markdown",
      "source": [
        "# **Introduction-:**\n",
        "\n",
        "The diagnosis of heart disease is usually based on signs, symptoms and physical examination of the patient. There are several factors that increase the risk of heart disease, such as smoking habit, body cholesterol level, family history of heart disease, obesity, high blood pressure, and lack of physical exercise.\n",
        "\n",
        "Detecting and preventing the factors that have the greatest impact on heart disease is very important in healthcare. Computational developments, in turn, allow the application of machine learning methods to detect \"patterns\" from the data that can predict a patient's condition.\n",
        "\n",
        "# **The machine learning models used in this dataset are:**\n",
        "1. Decision Tree.\n",
        "2. K-Nearest Neighbors (KNN).\n",
        "\n",
        "# **Explanation of the variables of the dataset-**\n",
        "HeartDisease : Respondents that have ever reported having coronary heart disease (CHD) or myocardial infarction (MI).\n",
        "\n",
        "BMI : Body Mass Index (BMI).\n",
        "\n",
        "Smoking : Have you smoked at least 100 cigarettes in your entire life? ( The answer Yes or No ).\n",
        "\n",
        "AlcoholDrinking : Heavy drinkers (adult men having more than 14 drinks per week and adult women having more than 7 drinks per week\n",
        "\n",
        "Stroke : (Ever told) (you had) a stroke?\n",
        "\n",
        "PhysicalHealth : Now thinking about your physical health, which includes physical illness and injury, for how many days during the past 30 days was your physical health not good? (0-30 days).\n",
        "\n",
        "MentalHealth : Thinking about your mental health, for how many days during the past 30 days was your mental health not good? (0-30 days).\n",
        "\n",
        "DiffWalking : Do you have serious difficulty walking or climbing stairs?\n",
        "\n",
        "Sex : Are you male or female?\n",
        "AgeCategory: Fourteen-level age category.\n",
        "\n",
        "Race : Imputed race/ethnicity value.\n",
        "\n",
        "Diabetic : (Ever told) (you had) diabetes?\n",
        "\n",
        "PhysicalActivity : Adults who reported doing physical activity or exercise during the past 30 days other than their regular job.\n",
        "\n",
        "GenHealth : Would you say that in general your health is...\n",
        "\n",
        "SleepTime : On average, how many hours of sleep do you get in a 24-hour period?\n",
        "\n",
        "Asthma : (Ever told) (you had) asthma?\n",
        "\n",
        "KidneyDisease : Not including kidney stones, bladder infection or incontinence, were you ever told you had kidney disease?\n",
        "\n",
        "SkinCancer : (Ever told) (you had) skin cancer?\n"
      ],
      "metadata": {
        "id": "bkcpDiqRIan_"
      }
    },
    {
      "cell_type": "markdown",
      "source": [
        "# **Importing Libraries**"
      ],
      "metadata": {
        "id": "ffGYRIWFKsHC"
      }
    },
    {
      "cell_type": "code",
      "source": [
        "import pandas as pd\n",
        "import numpy as np\n",
        "\n",
        "%matplotlib inline\n",
        "import seaborn as sns\n",
        "import matplotlib.pyplot as plt\n",
        "\n",
        "from sklearn.neighbors import KNeighborsClassifier\n",
        "from sklearn import tree\n",
        "\n",
        "\n",
        "from sklearn.model_selection import train_test_split\n",
        "from sklearn.compose import make_column_transformer\n",
        "from sklearn.preprocessing import OneHotEncoder\n",
        "from sklearn.compose import make_column_transformer\n",
        "from sklearn.preprocessing import StandardScaler \n",
        "from sklearn import metrics"
      ],
      "metadata": {
        "id": "w63PXjCdJs94"
      },
      "execution_count": 2,
      "outputs": []
    },
    {
      "cell_type": "code",
      "source": [
        "df = pd.read_csv('/content/drive/MyDrive/ml/datasets/heart.csv')\n",
        "df.head()"
      ],
      "metadata": {
        "colab": {
          "base_uri": "https://localhost:8080/",
          "height": 270
        },
        "id": "JTVhVFNrLTwQ",
        "outputId": "c940253d-de88-4f9f-9562-d6dfb36d6075"
      },
      "execution_count": 3,
      "outputs": [
        {
          "output_type": "execute_result",
          "data": {
            "text/plain": [
              "  HeartDisease    BMI Smoking AlcoholDrinking Stroke  PhysicalHealth  \\\n",
              "0           No  16.60     Yes              No     No             3.0   \n",
              "1           No  20.34      No              No    Yes             0.0   \n",
              "2           No  26.58     Yes              No     No            20.0   \n",
              "3           No  24.21      No              No     No             0.0   \n",
              "4           No  23.71      No              No     No            28.0   \n",
              "\n",
              "   MentalHealth DiffWalking     Sex  AgeCategory   Race Diabetic  \\\n",
              "0          30.0          No  Female        55-59  White      Yes   \n",
              "1           0.0          No  Female  80 or older  White       No   \n",
              "2          30.0          No    Male        65-69  White      Yes   \n",
              "3           0.0          No  Female        75-79  White       No   \n",
              "4           0.0         Yes  Female        40-44  White       No   \n",
              "\n",
              "  PhysicalActivity  GenHealth  SleepTime Asthma KidneyDisease SkinCancer  \n",
              "0              Yes  Very good        5.0    Yes            No        Yes  \n",
              "1              Yes  Very good        7.0     No            No         No  \n",
              "2              Yes       Fair        8.0    Yes            No         No  \n",
              "3               No       Good        6.0     No            No        Yes  \n",
              "4              Yes  Very good        8.0     No            No         No  "
            ],
            "text/html": [
              "\n",
              "  <div id=\"df-ed80959a-801c-44a7-9a9c-26ec23546cbc\">\n",
              "    <div class=\"colab-df-container\">\n",
              "      <div>\n",
              "<style scoped>\n",
              "    .dataframe tbody tr th:only-of-type {\n",
              "        vertical-align: middle;\n",
              "    }\n",
              "\n",
              "    .dataframe tbody tr th {\n",
              "        vertical-align: top;\n",
              "    }\n",
              "\n",
              "    .dataframe thead th {\n",
              "        text-align: right;\n",
              "    }\n",
              "</style>\n",
              "<table border=\"1\" class=\"dataframe\">\n",
              "  <thead>\n",
              "    <tr style=\"text-align: right;\">\n",
              "      <th></th>\n",
              "      <th>HeartDisease</th>\n",
              "      <th>BMI</th>\n",
              "      <th>Smoking</th>\n",
              "      <th>AlcoholDrinking</th>\n",
              "      <th>Stroke</th>\n",
              "      <th>PhysicalHealth</th>\n",
              "      <th>MentalHealth</th>\n",
              "      <th>DiffWalking</th>\n",
              "      <th>Sex</th>\n",
              "      <th>AgeCategory</th>\n",
              "      <th>Race</th>\n",
              "      <th>Diabetic</th>\n",
              "      <th>PhysicalActivity</th>\n",
              "      <th>GenHealth</th>\n",
              "      <th>SleepTime</th>\n",
              "      <th>Asthma</th>\n",
              "      <th>KidneyDisease</th>\n",
              "      <th>SkinCancer</th>\n",
              "    </tr>\n",
              "  </thead>\n",
              "  <tbody>\n",
              "    <tr>\n",
              "      <th>0</th>\n",
              "      <td>No</td>\n",
              "      <td>16.60</td>\n",
              "      <td>Yes</td>\n",
              "      <td>No</td>\n",
              "      <td>No</td>\n",
              "      <td>3.0</td>\n",
              "      <td>30.0</td>\n",
              "      <td>No</td>\n",
              "      <td>Female</td>\n",
              "      <td>55-59</td>\n",
              "      <td>White</td>\n",
              "      <td>Yes</td>\n",
              "      <td>Yes</td>\n",
              "      <td>Very good</td>\n",
              "      <td>5.0</td>\n",
              "      <td>Yes</td>\n",
              "      <td>No</td>\n",
              "      <td>Yes</td>\n",
              "    </tr>\n",
              "    <tr>\n",
              "      <th>1</th>\n",
              "      <td>No</td>\n",
              "      <td>20.34</td>\n",
              "      <td>No</td>\n",
              "      <td>No</td>\n",
              "      <td>Yes</td>\n",
              "      <td>0.0</td>\n",
              "      <td>0.0</td>\n",
              "      <td>No</td>\n",
              "      <td>Female</td>\n",
              "      <td>80 or older</td>\n",
              "      <td>White</td>\n",
              "      <td>No</td>\n",
              "      <td>Yes</td>\n",
              "      <td>Very good</td>\n",
              "      <td>7.0</td>\n",
              "      <td>No</td>\n",
              "      <td>No</td>\n",
              "      <td>No</td>\n",
              "    </tr>\n",
              "    <tr>\n",
              "      <th>2</th>\n",
              "      <td>No</td>\n",
              "      <td>26.58</td>\n",
              "      <td>Yes</td>\n",
              "      <td>No</td>\n",
              "      <td>No</td>\n",
              "      <td>20.0</td>\n",
              "      <td>30.0</td>\n",
              "      <td>No</td>\n",
              "      <td>Male</td>\n",
              "      <td>65-69</td>\n",
              "      <td>White</td>\n",
              "      <td>Yes</td>\n",
              "      <td>Yes</td>\n",
              "      <td>Fair</td>\n",
              "      <td>8.0</td>\n",
              "      <td>Yes</td>\n",
              "      <td>No</td>\n",
              "      <td>No</td>\n",
              "    </tr>\n",
              "    <tr>\n",
              "      <th>3</th>\n",
              "      <td>No</td>\n",
              "      <td>24.21</td>\n",
              "      <td>No</td>\n",
              "      <td>No</td>\n",
              "      <td>No</td>\n",
              "      <td>0.0</td>\n",
              "      <td>0.0</td>\n",
              "      <td>No</td>\n",
              "      <td>Female</td>\n",
              "      <td>75-79</td>\n",
              "      <td>White</td>\n",
              "      <td>No</td>\n",
              "      <td>No</td>\n",
              "      <td>Good</td>\n",
              "      <td>6.0</td>\n",
              "      <td>No</td>\n",
              "      <td>No</td>\n",
              "      <td>Yes</td>\n",
              "    </tr>\n",
              "    <tr>\n",
              "      <th>4</th>\n",
              "      <td>No</td>\n",
              "      <td>23.71</td>\n",
              "      <td>No</td>\n",
              "      <td>No</td>\n",
              "      <td>No</td>\n",
              "      <td>28.0</td>\n",
              "      <td>0.0</td>\n",
              "      <td>Yes</td>\n",
              "      <td>Female</td>\n",
              "      <td>40-44</td>\n",
              "      <td>White</td>\n",
              "      <td>No</td>\n",
              "      <td>Yes</td>\n",
              "      <td>Very good</td>\n",
              "      <td>8.0</td>\n",
              "      <td>No</td>\n",
              "      <td>No</td>\n",
              "      <td>No</td>\n",
              "    </tr>\n",
              "  </tbody>\n",
              "</table>\n",
              "</div>\n",
              "      <button class=\"colab-df-convert\" onclick=\"convertToInteractive('df-ed80959a-801c-44a7-9a9c-26ec23546cbc')\"\n",
              "              title=\"Convert this dataframe to an interactive table.\"\n",
              "              style=\"display:none;\">\n",
              "        \n",
              "  <svg xmlns=\"http://www.w3.org/2000/svg\" height=\"24px\"viewBox=\"0 0 24 24\"\n",
              "       width=\"24px\">\n",
              "    <path d=\"M0 0h24v24H0V0z\" fill=\"none\"/>\n",
              "    <path d=\"M18.56 5.44l.94 2.06.94-2.06 2.06-.94-2.06-.94-.94-2.06-.94 2.06-2.06.94zm-11 1L8.5 8.5l.94-2.06 2.06-.94-2.06-.94L8.5 2.5l-.94 2.06-2.06.94zm10 10l.94 2.06.94-2.06 2.06-.94-2.06-.94-.94-2.06-.94 2.06-2.06.94z\"/><path d=\"M17.41 7.96l-1.37-1.37c-.4-.4-.92-.59-1.43-.59-.52 0-1.04.2-1.43.59L10.3 9.45l-7.72 7.72c-.78.78-.78 2.05 0 2.83L4 21.41c.39.39.9.59 1.41.59.51 0 1.02-.2 1.41-.59l7.78-7.78 2.81-2.81c.8-.78.8-2.07 0-2.86zM5.41 20L4 18.59l7.72-7.72 1.47 1.35L5.41 20z\"/>\n",
              "  </svg>\n",
              "      </button>\n",
              "      \n",
              "  <style>\n",
              "    .colab-df-container {\n",
              "      display:flex;\n",
              "      flex-wrap:wrap;\n",
              "      gap: 12px;\n",
              "    }\n",
              "\n",
              "    .colab-df-convert {\n",
              "      background-color: #E8F0FE;\n",
              "      border: none;\n",
              "      border-radius: 50%;\n",
              "      cursor: pointer;\n",
              "      display: none;\n",
              "      fill: #1967D2;\n",
              "      height: 32px;\n",
              "      padding: 0 0 0 0;\n",
              "      width: 32px;\n",
              "    }\n",
              "\n",
              "    .colab-df-convert:hover {\n",
              "      background-color: #E2EBFA;\n",
              "      box-shadow: 0px 1px 2px rgba(60, 64, 67, 0.3), 0px 1px 3px 1px rgba(60, 64, 67, 0.15);\n",
              "      fill: #174EA6;\n",
              "    }\n",
              "\n",
              "    [theme=dark] .colab-df-convert {\n",
              "      background-color: #3B4455;\n",
              "      fill: #D2E3FC;\n",
              "    }\n",
              "\n",
              "    [theme=dark] .colab-df-convert:hover {\n",
              "      background-color: #434B5C;\n",
              "      box-shadow: 0px 1px 3px 1px rgba(0, 0, 0, 0.15);\n",
              "      filter: drop-shadow(0px 1px 2px rgba(0, 0, 0, 0.3));\n",
              "      fill: #FFFFFF;\n",
              "    }\n",
              "  </style>\n",
              "\n",
              "      <script>\n",
              "        const buttonEl =\n",
              "          document.querySelector('#df-ed80959a-801c-44a7-9a9c-26ec23546cbc button.colab-df-convert');\n",
              "        buttonEl.style.display =\n",
              "          google.colab.kernel.accessAllowed ? 'block' : 'none';\n",
              "\n",
              "        async function convertToInteractive(key) {\n",
              "          const element = document.querySelector('#df-ed80959a-801c-44a7-9a9c-26ec23546cbc');\n",
              "          const dataTable =\n",
              "            await google.colab.kernel.invokeFunction('convertToInteractive',\n",
              "                                                     [key], {});\n",
              "          if (!dataTable) return;\n",
              "\n",
              "          const docLinkHtml = 'Like what you see? Visit the ' +\n",
              "            '<a target=\"_blank\" href=https://colab.research.google.com/notebooks/data_table.ipynb>data table notebook</a>'\n",
              "            + ' to learn more about interactive tables.';\n",
              "          element.innerHTML = '';\n",
              "          dataTable['output_type'] = 'display_data';\n",
              "          await google.colab.output.renderOutput(dataTable, element);\n",
              "          const docLink = document.createElement('div');\n",
              "          docLink.innerHTML = docLinkHtml;\n",
              "          element.appendChild(docLink);\n",
              "        }\n",
              "      </script>\n",
              "    </div>\n",
              "  </div>\n",
              "  "
            ]
          },
          "metadata": {},
          "execution_count": 3
        }
      ]
    },
    {
      "cell_type": "markdown",
      "source": [
        "Summary of Numerical features-"
      ],
      "metadata": {
        "id": "WhsJ5dOwL1VY"
      }
    },
    {
      "cell_type": "code",
      "source": [
        "df.describe().T.style.set_properties(**{'background-color': 'grey','color': 'white','border-color': 'white'})"
      ],
      "metadata": {
        "colab": {
          "base_uri": "https://localhost:8080/",
          "height": 175
        },
        "id": "WaeBOH4NL6ei",
        "outputId": "dfbcdda3-0138-4b6c-a6db-a856c04af9f7"
      },
      "execution_count": 4,
      "outputs": [
        {
          "output_type": "execute_result",
          "data": {
            "text/plain": [
              "<pandas.io.formats.style.Styler at 0x7fca8991c040>"
            ],
            "text/html": [
              "<style type=\"text/css\">\n",
              "#T_b266c_row0_col0, #T_b266c_row0_col1, #T_b266c_row0_col2, #T_b266c_row0_col3, #T_b266c_row0_col4, #T_b266c_row0_col5, #T_b266c_row0_col6, #T_b266c_row0_col7, #T_b266c_row1_col0, #T_b266c_row1_col1, #T_b266c_row1_col2, #T_b266c_row1_col3, #T_b266c_row1_col4, #T_b266c_row1_col5, #T_b266c_row1_col6, #T_b266c_row1_col7, #T_b266c_row2_col0, #T_b266c_row2_col1, #T_b266c_row2_col2, #T_b266c_row2_col3, #T_b266c_row2_col4, #T_b266c_row2_col5, #T_b266c_row2_col6, #T_b266c_row2_col7, #T_b266c_row3_col0, #T_b266c_row3_col1, #T_b266c_row3_col2, #T_b266c_row3_col3, #T_b266c_row3_col4, #T_b266c_row3_col5, #T_b266c_row3_col6, #T_b266c_row3_col7 {\n",
              "  background-color: grey;\n",
              "  color: white;\n",
              "  border-color: white;\n",
              "}\n",
              "</style>\n",
              "<table id=\"T_b266c_\" class=\"dataframe\">\n",
              "  <thead>\n",
              "    <tr>\n",
              "      <th class=\"blank level0\" >&nbsp;</th>\n",
              "      <th class=\"col_heading level0 col0\" >count</th>\n",
              "      <th class=\"col_heading level0 col1\" >mean</th>\n",
              "      <th class=\"col_heading level0 col2\" >std</th>\n",
              "      <th class=\"col_heading level0 col3\" >min</th>\n",
              "      <th class=\"col_heading level0 col4\" >25%</th>\n",
              "      <th class=\"col_heading level0 col5\" >50%</th>\n",
              "      <th class=\"col_heading level0 col6\" >75%</th>\n",
              "      <th class=\"col_heading level0 col7\" >max</th>\n",
              "    </tr>\n",
              "  </thead>\n",
              "  <tbody>\n",
              "    <tr>\n",
              "      <th id=\"T_b266c_level0_row0\" class=\"row_heading level0 row0\" >BMI</th>\n",
              "      <td id=\"T_b266c_row0_col0\" class=\"data row0 col0\" >319795.000000</td>\n",
              "      <td id=\"T_b266c_row0_col1\" class=\"data row0 col1\" >28.325399</td>\n",
              "      <td id=\"T_b266c_row0_col2\" class=\"data row0 col2\" >6.356100</td>\n",
              "      <td id=\"T_b266c_row0_col3\" class=\"data row0 col3\" >12.020000</td>\n",
              "      <td id=\"T_b266c_row0_col4\" class=\"data row0 col4\" >24.030000</td>\n",
              "      <td id=\"T_b266c_row0_col5\" class=\"data row0 col5\" >27.340000</td>\n",
              "      <td id=\"T_b266c_row0_col6\" class=\"data row0 col6\" >31.420000</td>\n",
              "      <td id=\"T_b266c_row0_col7\" class=\"data row0 col7\" >94.850000</td>\n",
              "    </tr>\n",
              "    <tr>\n",
              "      <th id=\"T_b266c_level0_row1\" class=\"row_heading level0 row1\" >PhysicalHealth</th>\n",
              "      <td id=\"T_b266c_row1_col0\" class=\"data row1 col0\" >319795.000000</td>\n",
              "      <td id=\"T_b266c_row1_col1\" class=\"data row1 col1\" >3.371710</td>\n",
              "      <td id=\"T_b266c_row1_col2\" class=\"data row1 col2\" >7.950850</td>\n",
              "      <td id=\"T_b266c_row1_col3\" class=\"data row1 col3\" >0.000000</td>\n",
              "      <td id=\"T_b266c_row1_col4\" class=\"data row1 col4\" >0.000000</td>\n",
              "      <td id=\"T_b266c_row1_col5\" class=\"data row1 col5\" >0.000000</td>\n",
              "      <td id=\"T_b266c_row1_col6\" class=\"data row1 col6\" >2.000000</td>\n",
              "      <td id=\"T_b266c_row1_col7\" class=\"data row1 col7\" >30.000000</td>\n",
              "    </tr>\n",
              "    <tr>\n",
              "      <th id=\"T_b266c_level0_row2\" class=\"row_heading level0 row2\" >MentalHealth</th>\n",
              "      <td id=\"T_b266c_row2_col0\" class=\"data row2 col0\" >319795.000000</td>\n",
              "      <td id=\"T_b266c_row2_col1\" class=\"data row2 col1\" >3.898366</td>\n",
              "      <td id=\"T_b266c_row2_col2\" class=\"data row2 col2\" >7.955235</td>\n",
              "      <td id=\"T_b266c_row2_col3\" class=\"data row2 col3\" >0.000000</td>\n",
              "      <td id=\"T_b266c_row2_col4\" class=\"data row2 col4\" >0.000000</td>\n",
              "      <td id=\"T_b266c_row2_col5\" class=\"data row2 col5\" >0.000000</td>\n",
              "      <td id=\"T_b266c_row2_col6\" class=\"data row2 col6\" >3.000000</td>\n",
              "      <td id=\"T_b266c_row2_col7\" class=\"data row2 col7\" >30.000000</td>\n",
              "    </tr>\n",
              "    <tr>\n",
              "      <th id=\"T_b266c_level0_row3\" class=\"row_heading level0 row3\" >SleepTime</th>\n",
              "      <td id=\"T_b266c_row3_col0\" class=\"data row3 col0\" >319795.000000</td>\n",
              "      <td id=\"T_b266c_row3_col1\" class=\"data row3 col1\" >7.097075</td>\n",
              "      <td id=\"T_b266c_row3_col2\" class=\"data row3 col2\" >1.436007</td>\n",
              "      <td id=\"T_b266c_row3_col3\" class=\"data row3 col3\" >1.000000</td>\n",
              "      <td id=\"T_b266c_row3_col4\" class=\"data row3 col4\" >6.000000</td>\n",
              "      <td id=\"T_b266c_row3_col5\" class=\"data row3 col5\" >7.000000</td>\n",
              "      <td id=\"T_b266c_row3_col6\" class=\"data row3 col6\" >8.000000</td>\n",
              "      <td id=\"T_b266c_row3_col7\" class=\"data row3 col7\" >24.000000</td>\n",
              "    </tr>\n",
              "  </tbody>\n",
              "</table>\n"
            ]
          },
          "metadata": {},
          "execution_count": 4
        }
      ]
    },
    {
      "cell_type": "markdown",
      "source": [
        "Data Cleaning"
      ],
      "metadata": {
        "id": "7Y8ltndsMH71"
      }
    },
    {
      "cell_type": "code",
      "source": [
        "df.info()"
      ],
      "metadata": {
        "colab": {
          "base_uri": "https://localhost:8080/"
        },
        "id": "ZMe5nnz9MKLN",
        "outputId": "79f645c7-83da-4bef-88e4-0850964a010f"
      },
      "execution_count": 5,
      "outputs": [
        {
          "output_type": "stream",
          "name": "stdout",
          "text": [
            "<class 'pandas.core.frame.DataFrame'>\n",
            "RangeIndex: 319795 entries, 0 to 319794\n",
            "Data columns (total 18 columns):\n",
            " #   Column            Non-Null Count   Dtype  \n",
            "---  ------            --------------   -----  \n",
            " 0   HeartDisease      319795 non-null  object \n",
            " 1   BMI               319795 non-null  float64\n",
            " 2   Smoking           319795 non-null  object \n",
            " 3   AlcoholDrinking   319795 non-null  object \n",
            " 4   Stroke            319795 non-null  object \n",
            " 5   PhysicalHealth    319795 non-null  float64\n",
            " 6   MentalHealth      319795 non-null  float64\n",
            " 7   DiffWalking       319795 non-null  object \n",
            " 8   Sex               319795 non-null  object \n",
            " 9   AgeCategory       319795 non-null  object \n",
            " 10  Race              319795 non-null  object \n",
            " 11  Diabetic          319795 non-null  object \n",
            " 12  PhysicalActivity  319795 non-null  object \n",
            " 13  GenHealth         319795 non-null  object \n",
            " 14  SleepTime         319795 non-null  float64\n",
            " 15  Asthma            319795 non-null  object \n",
            " 16  KidneyDisease     319795 non-null  object \n",
            " 17  SkinCancer        319795 non-null  object \n",
            "dtypes: float64(4), object(14)\n",
            "memory usage: 43.9+ MB\n"
          ]
        }
      ]
    },
    {
      "cell_type": "code",
      "source": [
        "df.nunique()"
      ],
      "metadata": {
        "colab": {
          "base_uri": "https://localhost:8080/"
        },
        "id": "_nNnE7q9MOfJ",
        "outputId": "331619af-492a-4ff9-c95e-04af6265b550"
      },
      "execution_count": 6,
      "outputs": [
        {
          "output_type": "execute_result",
          "data": {
            "text/plain": [
              "HeartDisease           2\n",
              "BMI                 3604\n",
              "Smoking                2\n",
              "AlcoholDrinking        2\n",
              "Stroke                 2\n",
              "PhysicalHealth        31\n",
              "MentalHealth          31\n",
              "DiffWalking            2\n",
              "Sex                    2\n",
              "AgeCategory           13\n",
              "Race                   6\n",
              "Diabetic               4\n",
              "PhysicalActivity       2\n",
              "GenHealth              5\n",
              "SleepTime             24\n",
              "Asthma                 2\n",
              "KidneyDisease          2\n",
              "SkinCancer             2\n",
              "dtype: int64"
            ]
          },
          "metadata": {},
          "execution_count": 6
        }
      ]
    },
    {
      "cell_type": "markdown",
      "source": [
        "We have some attributes that have more than two unique values, we'll use OneHotEncoder in the preprocessing step later."
      ],
      "metadata": {
        "id": "ptN-KIjzMm73"
      }
    },
    {
      "cell_type": "code",
      "source": [
        "df =  df[df.columns].replace({'Yes':1, 'No':0, 'Male':1,'Female':0,'No, borderline diabetes':'0','Yes (during pregnancy)':'1' })\n",
        "df['Diabetic'] = df['Diabetic'].astype(int)"
      ],
      "metadata": {
        "id": "S3AKtabEMoMk"
      },
      "execution_count": 7,
      "outputs": []
    },
    {
      "cell_type": "markdown",
      "source": [
        "# **Exploratory Analysis**\n",
        "\n",
        "Visualization of categorical features."
      ],
      "metadata": {
        "id": "CaMY_pw8M0Bv"
      }
    },
    {
      "cell_type": "code",
      "source": [
        "fig, ax = plt.subplots(figsize = (13,6))\n",
        "\n",
        "ax.hist(df[df[\"HeartDisease\"]==1][\"Sex\"], bins=15, alpha=0.5, color=\"red\", label=\"HeartDisease\")\n",
        "ax.hist(df[df[\"HeartDisease\"]==0][\"Sex\"], bins=15, alpha=0.5, color=\"#fccc79\", label=\"Normal\")\n",
        "\n",
        "ax.set_xlabel(\"Sex\")\n",
        "ax.set_ylabel(\"Frequency\")\n",
        "\n",
        "fig.suptitle(\"Distribution of Cases with Yes/No heartdisease according to Sex\")\n",
        "\n",
        "ax.legend();"
      ],
      "metadata": {
        "colab": {
          "base_uri": "https://localhost:8080/",
          "height": 431
        },
        "id": "pUR3I7pdeXzI",
        "outputId": "8bbdca0e-9dbc-4304-ff67-015b350cbe2c"
      },
      "execution_count": 8,
      "outputs": [
        {
          "output_type": "display_data",
          "data": {
            "text/plain": [
              "<Figure size 936x432 with 1 Axes>"
            ],
            "image/png": "[encoded data removed]"
          },
          "metadata": {
            "needs_background": "light"
          }
        }
      ]
    },
    {
      "cell_type": "markdown",
      "source": [
        "- Remember that number one refers to men and 0 refers to women on the x-axis.\n",
        "- Most cases of heart disease are <span style ='color:#0386f7de'>men </span>.\n",
        "- Most cases that got no hart disease are <span style ='color:#0386f7de'>women </span>."
      ],
      "metadata": {
        "id": "RvMQ63riew7y"
      }
    },
    {
      "cell_type": "code",
      "source": [
        "fig, ax = plt.subplots(figsize = (13,6))\n",
        "\n",
        "ax.hist(df[df[\"HeartDisease\"]==1][\"Smoking\"], bins=15, alpha=0.5, color=\"red\", label=\"HeartDisease\")\n",
        "ax.hist(df[df[\"HeartDisease\"]==0][\"Smoking\"], bins=15, alpha=0.5, color=\"#fccc79\", label=\"Normal\")\n",
        "\n",
        "ax.set_xlabel(\"Smoking\")\n",
        "ax.set_ylabel(\"Frequency\")\n",
        "\n",
        "fig.suptitle(\"Distribution of Cases with Yes/No heartdisease according to being a smkoer or not.\")\n",
        "\n",
        "ax.legend();"
      ],
      "metadata": {
        "colab": {
          "base_uri": "https://localhost:8080/",
          "height": 431
        },
        "id": "sOKOSVUOeyKy",
        "outputId": "c6a45550-864b-433f-f9c6-a959293a698b"
      },
      "execution_count": 9,
      "outputs": [
        {
          "output_type": "display_data",
          "data": {
            "text/plain": [
              "<Figure size 936x432 with 1 Axes>"
            ],
            "image/png": "[encoded data removed]"
          },
          "metadata": {
            "needs_background": "light"
          }
        }
      ]
    },
    {
      "cell_type": "code",
      "source": [
        "plt.figure(figsize = (13,6))\n",
        "sns.countplot( x= df['Race'], hue = 'HeartDisease', data = df, palette = 'YlOrBr')\n",
        "plt.xlabel('Race')\n",
        "plt.legend()\n",
        "plt.ylabel('Frequency')\n",
        "plt.show()"
      ],
      "metadata": {
        "colab": {
          "base_uri": "https://localhost:8080/",
          "height": 388
        },
        "id": "RL3dZ1IIfJCD",
        "outputId": "9bef29f0-dfd1-4463-b3a4-14a6cd6b6305"
      },
      "execution_count": 10,
      "outputs": [
        {
          "output_type": "display_data",
          "data": {
            "text/plain": [
              "<Figure size 936x432 with 1 Axes>"
            ],
            "image/png": "[encoded data removed]"
          },
          "metadata": {
            "needs_background": "light"
          }
        }
      ]
    },
    {
      "cell_type": "markdown",
      "source": [
        "- 1 refers to heartdisease.\n",
        "- 0 refers to normal state.\n",
        "- We can see that white people are more susceptible to heart disease."
      ],
      "metadata": {
        "id": "JCYiNZWCNWIb"
      }
    },
    {
      "cell_type": "code",
      "source": [
        "plt.figure(figsize = (13,6))\n",
        "sns.countplot(x = df['AgeCategory'], hue = 'HeartDisease', data = df, palette = 'YlOrBr')\n",
        "fig.suptitle(\"Distribution of Cases with Yes/No hartdisease according to AgeCategory\")\n",
        "plt.xlabel('AgeCategory')\n",
        "plt.legend(['Normal','HeartDisease'])\n",
        "plt.ylabel('Frequency')\n",
        "plt.show()"
      ],
      "metadata": {
        "execution": {
          "iopub.status.busy": "2022-06-03T12:23:26.488889Z",
          "iopub.execute_input": "2022-06-03T12:23:26.489194Z",
          "iopub.status.idle": "2022-06-03T12:23:27.656519Z",
          "shell.execute_reply.started": "2022-06-03T12:23:26.489152Z",
          "shell.execute_reply": "2022-06-03T12:23:27.655233Z"
        },
        "trusted": true,
        "colab": {
          "base_uri": "https://localhost:8080/",
          "height": 388
        },
        "id": "4q16GiNKNWIb",
        "outputId": "0e945774-fc80-418c-c90d-dbc626bd6638"
      },
      "execution_count": 11,
      "outputs": [
        {
          "output_type": "display_data",
          "data": {
            "text/plain": [
              "<Figure size 936x432 with 1 Axes>"
            ],
            "image/png": "[encoded data removed]"
          },
          "metadata": {
            "needs_background": "light"
          }
        }
      ]
    },
    {
      "cell_type": "markdown",
      "source": [
        "- We can see that people who are 80 or older are more likely to get HeartDiseases."
      ],
      "metadata": {
        "id": "SjdKZ6hINWIc"
      }
    },
    {
      "cell_type": "code",
      "source": [
        "fig, ax = plt.subplots(figsize = (13,6))\n",
        "\n",
        "ax.hist(df[df[\"HeartDisease\"]==1][\"KidneyDisease\"], bins=15, alpha=0.5, color=\"red\", label=\"HeartDisease\")\n",
        "ax.hist(df[df[\"HeartDisease\"]==0][\"KidneyDisease\"], bins=15, alpha=0.5, color=\"#fccc79\", label=\"Normal\")\n",
        "\n",
        "ax.set_xlabel(\"KidneyDisease\")\n",
        "ax.set_ylabel(\"Frequency\")\n",
        "\n",
        "fig.suptitle(\"Distribution of Cases with Yes/No heartdisease according to kidneydisease\")\n",
        "\n",
        "ax.legend();"
      ],
      "metadata": {
        "execution": {
          "iopub.status.busy": "2022-06-03T12:23:27.657724Z",
          "iopub.execute_input": "2022-06-03T12:23:27.657986Z",
          "iopub.status.idle": "2022-06-03T12:23:28.089352Z",
          "shell.execute_reply.started": "2022-06-03T12:23:27.657951Z",
          "shell.execute_reply": "2022-06-03T12:23:28.088499Z"
        },
        "trusted": true,
        "colab": {
          "base_uri": "https://localhost:8080/",
          "height": 431
        },
        "id": "EX9gPQrENWIc",
        "outputId": "8bb7b37f-1e78-46b9-95a4-72f583c76a81"
      },
      "execution_count": 12,
      "outputs": [
        {
          "output_type": "display_data",
          "data": {
            "text/plain": [
              "<Figure size 936x432 with 1 Axes>"
            ],
            "image/png": "[encoded data removed]"
          },
          "metadata": {
            "needs_background": "light"
          }
        }
      ]
    },
    {
      "cell_type": "code",
      "source": [
        "fig, ax = plt.subplots(figsize = (13,6))\n",
        "\n",
        "ax.hist(df[df[\"HeartDisease\"]==1][\"SkinCancer\"], bins=15, alpha=0.5, color=\"red\", label=\"HeartDisease\")\n",
        "ax.hist(df[df[\"HeartDisease\"]==0][\"SkinCancer\"], bins=15, alpha=0.5, color=\"#fccc79\", label=\"Normal\")\n",
        "\n",
        "ax.set_xlabel(\"SkinCancer\")\n",
        "ax.set_ylabel(\"Frequency\")\n",
        "\n",
        "fig.suptitle(\"Distribution of Cases with Yes/No heartdisease based on previous exposure to skin cancer\")\n",
        "\n",
        "ax.legend();"
      ],
      "metadata": {
        "execution": {
          "iopub.status.busy": "2022-06-03T12:23:28.091833Z",
          "iopub.execute_input": "2022-06-03T12:23:28.092133Z",
          "iopub.status.idle": "2022-06-03T12:23:28.49564Z",
          "shell.execute_reply.started": "2022-06-03T12:23:28.092099Z",
          "shell.execute_reply": "2022-06-03T12:23:28.494887Z"
        },
        "trusted": true,
        "colab": {
          "base_uri": "https://localhost:8080/",
          "height": 431
        },
        "id": "DQMpzygENWIc",
        "outputId": "d3a94fb7-3c25-401a-9411-a398d024d039"
      },
      "execution_count": 13,
      "outputs": [
        {
          "output_type": "display_data",
          "data": {
            "text/plain": [
              "<Figure size 936x432 with 1 Axes>"
            ],
            "image/png": "[encoded data removed]"
          },
          "metadata": {
            "needs_background": "light"
          }
        }
      ]
    },
    {
      "cell_type": "code",
      "source": [
        "fig, ax = plt.subplots(figsize = (13,6))\n",
        "\n",
        "ax.hist(df[df[\"HeartDisease\"]==1][\"Stroke\"], bins=15, alpha=0.5, color=\"red\", label=\"HeartDisease\")\n",
        "ax.hist(df[df[\"HeartDisease\"]==0][\"Stroke\"], bins=15, alpha=0.5, color=\"#fccc79\", label=\"Normal\")\n",
        "\n",
        "ax.set_xlabel(\"Stroke\")\n",
        "ax.set_ylabel(\"Frequency\")\n",
        "\n",
        "fig.suptitle(\"Distribution of Cases with Yes/No hartdisease based on previous exposure to Stroke\")\n",
        "\n",
        "ax.legend();"
      ],
      "metadata": {
        "execution": {
          "iopub.status.busy": "2022-06-03T12:23:28.496798Z",
          "iopub.execute_input": "2022-06-03T12:23:28.497019Z",
          "iopub.status.idle": "2022-06-03T12:23:28.90064Z",
          "shell.execute_reply.started": "2022-06-03T12:23:28.496991Z",
          "shell.execute_reply": "2022-06-03T12:23:28.899812Z"
        },
        "trusted": true,
        "colab": {
          "base_uri": "https://localhost:8080/",
          "height": 431
        },
        "id": "fJBUAVE5NWId",
        "outputId": "89e7cc06-4df4-4d8b-bd0f-13bbc70ca2d1"
      },
      "execution_count": 14,
      "outputs": [
        {
          "output_type": "display_data",
          "data": {
            "text/plain": [
              "<Figure size 936x432 with 1 Axes>"
            ],
            "image/png": "[encoded data removed]"
          },
          "metadata": {
            "needs_background": "light"
          }
        }
      ]
    },
    {
      "cell_type": "code",
      "source": [
        "fig, ax = plt.subplots(figsize = (13,6))\n",
        "\n",
        "ax.hist(df[df[\"HeartDisease\"]==1][\"Diabetic\"], bins=15, alpha=0.5, color=\"red\", label=\"HeartDisease\")\n",
        "ax.hist(df[df[\"HeartDisease\"]==0][\"Diabetic\"], bins=15, alpha=0.5, color=\"#fccc79\", label=\"Normal\")\n",
        "\n",
        "ax.set_xlabel(\"Diabetic\")\n",
        "ax.set_ylabel(\"Frequency\")\n",
        "\n",
        "fig.suptitle(\"Distribution of Cases with Yes/No hartdisease based on previous exposure to Diabetic\")\n",
        "\n",
        "ax.legend();"
      ],
      "metadata": {
        "execution": {
          "iopub.status.busy": "2022-06-03T12:23:28.901933Z",
          "iopub.execute_input": "2022-06-03T12:23:28.902794Z",
          "iopub.status.idle": "2022-06-03T12:23:29.316709Z",
          "shell.execute_reply.started": "2022-06-03T12:23:28.902747Z",
          "shell.execute_reply": "2022-06-03T12:23:29.316141Z"
        },
        "trusted": true,
        "colab": {
          "base_uri": "https://localhost:8080/",
          "height": 431
        },
        "id": "5hJT6Zt6NWId",
        "outputId": "194e051a-3e2e-448b-b59e-0bf5876fa292"
      },
      "execution_count": 15,
      "outputs": [
        {
          "output_type": "display_data",
          "data": {
            "text/plain": [
              "<Figure size 936x432 with 1 Axes>"
            ],
            "image/png": "[encoded data removed]"
          },
          "metadata": {
            "needs_background": "light"
          }
        }
      ]
    }
  ]
}